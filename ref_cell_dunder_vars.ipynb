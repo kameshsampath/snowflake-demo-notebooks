{
 "metadata": {
  "kernelspec": {
   "display_name": "Streamlit Notebook",
   "name": "streamlit"
  },
  "lastEditStatus": {
   "notebookId": "k5oyjfvng5ffkzrxebcz",
   "authorId": "1302972214982",
   "authorName": "KAMESHS",
   "authorEmail": "kamesh.sampath@snowflake.com",
   "sessionId": "f9c8a945-22c2-476d-a3cc-89e13ab2e621",
   "lastEditTime": 1747030516671
  }
 },
 "nbformat_minor": 5,
 "nbformat": 4,
 "cells": [
  {
   "cell_type": "code",
   "id": "a1d8494c-1f41-4553-94cf-afba0ed78293",
   "metadata": {
    "language": "python",
    "name": "imports"
   },
   "outputs": [],
   "source": "from snowflake.snowpark.context import get_active_session\nsession = get_active_session()",
   "execution_count": null
  },
  {
   "cell_type": "code",
   "id": "b7fe7061-b24e-45e1-83a1-6bbd2437e76b",
   "metadata": {
    "language": "python",
    "name": "vars"
   },
   "outputs": [],
   "source": "__db_name=\"CORTEX_SEARCH_TUTORIAL_DB\"\n__schema_name=\"PUBLIC\"\n(__db_name,__schema_name)",
   "execution_count": null
  },
  {
   "cell_type": "code",
   "id": "c695373e-ac74-4b62-a1f1-08206cbd5c81",
   "metadata": {
    "language": "python",
    "name": "cortex_search_retriever"
   },
   "source": "import os\nfrom snowflake.core import Root\nfrom typing import List\nfrom snowflake.snowpark.session import Session\n\nclass CortexSearchRetriever:\n\n    def __init__(self,*args, snowpark_session: Session, limit_to_retrieve: int = 4):\n        self._snowpark_session = snowpark_session\n        self._limit_to_retrieve = limit_to_retrieve\n        self.db_name = args[0]\n        self.schema_name = args[1]\n\n    def retrieve(self, query: str) -> List[str]:\n        root = Root(session)\n\n        search_service = (root\n          .databases[self.db_name]\n          .schemas[self.schema_name]\n          .cortex_search_services[\"FOMC_SEARCH_SERVICE\"]\n        )\n        resp = search_service.search(\n          query=query,\n          columns=[\"chunk\"],\n          limit=self._limit_to_retrieve\n        )\n\n        if resp.results:\n            return [curr[\"chunk\"] for curr in resp.results]\n        else:\n            return []",
   "execution_count": null,
   "outputs": []
  },
  {
   "cell_type": "code",
   "id": "050af6b0-6a08-4bbb-9c75-86a843082403",
   "metadata": {
    "language": "python",
    "name": "verify_search"
   },
   "outputs": [],
   "source": "retriever = CortexSearchRetriever(*vars,snowpark_session=session,limit_to_retrieve=3)\n\nretrieved_context = retriever.retrieve(query=\"how was inflation expected to evolve in 2024?\")\n\nretrieved_context",
   "execution_count": null
  }
 ]
}